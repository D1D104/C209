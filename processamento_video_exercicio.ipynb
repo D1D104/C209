{
 "cells": [
  {
   "cell_type": "markdown",
   "id": "7269eacf",
   "metadata": {},
   "source": [
    "# Processamento de Vídeo com MoviePy\n",
    "\n",
    "Diego Nogueira Rezende Vilela - 1988"
   ]
  },
  {
   "cell_type": "markdown",
   "id": "23d78a9a",
   "metadata": {},
   "source": [
    "1. Importação das bibliotecas utilizadas"
   ]
  },
  {
   "cell_type": "code",
   "execution_count": 1,
   "id": "0b265473",
   "metadata": {},
   "outputs": [],
   "source": [
    "from moviepy.editor import *\n",
    "from moviepy.audio.fx.volumex import volumex"
   ]
  },
  {
   "cell_type": "markdown",
   "id": "da70cbac",
   "metadata": {},
   "source": [
    "2. Importa o vídeo, salva na variável video e mostra a duração"
   ]
  },
  {
   "cell_type": "code",
   "execution_count": 2,
   "id": "7dcbcb2c",
   "metadata": {},
   "outputs": [
    {
     "name": "stdout",
     "output_type": "stream",
     "text": [
      "Duração do vídeo original: 137.87 segundos\n"
     ]
    }
   ],
   "source": [
    "video_path = 'video.mp4'\n",
    "video = VideoFileClip(video_path)\n",
    "print(f'Duração do vídeo original: {video.duration} segundos')"
   ]
  },
  {
   "cell_type": "markdown",
   "id": "94a0faf2",
   "metadata": {},
   "source": [
    "3. Inverte a imagem horizontalmente a cada 20 segundos. Usa uma lista para amarzenar os subclips e depois de ter feito a inversão concatena todos os clips. "
   ]
  },
  {
   "cell_type": "code",
   "execution_count": 3,
   "id": "7dca1355",
   "metadata": {},
   "outputs": [
    {
     "name": "stdout",
     "output_type": "stream",
     "text": [
      "Moviepy - Building video output_inverted.mp4.\n",
      "MoviePy - Writing audio in output_invertedTEMP_MPY_wvf_snd.mp3\n"
     ]
    },
    {
     "name": "stderr",
     "output_type": "stream",
     "text": [
      "                                                                     \r"
     ]
    },
    {
     "name": "stdout",
     "output_type": "stream",
     "text": [
      "MoviePy - Done.\n",
      "Moviepy - Writing video output_inverted.mp4\n",
      "\n"
     ]
    },
    {
     "name": "stderr",
     "output_type": "stream",
     "text": [
      "                                                                \r"
     ]
    },
    {
     "name": "stdout",
     "output_type": "stream",
     "text": [
      "Moviepy - Done !\n",
      "Moviepy - video ready output_inverted.mp4\n"
     ]
    }
   ],
   "source": [
    "clips = []\n",
    "duration = int(video.duration)\n",
    "for i in range(0, duration, 20):\n",
    "    subclip = video.subclip(i, min(i + 20, duration))\n",
    "    if (i // 20) % 2 == 1:  \n",
    "        subclip = subclip.fx(vfx.mirror_x)\n",
    "    clips.append(subclip)\n",
    "\n",
    "video_inverted = concatenate_videoclips(clips)\n",
    "video_inverted.write_videofile('output_inverted.mp4')"
   ]
  },
  {
   "cell_type": "markdown",
   "id": "6079e8c7",
   "metadata": {},
   "source": [
    "2. Reduz o volume de forma gradativa a cada 30 segundos, deixando os últimos 10 segundos em silêncio. Utiliza uma variável de volume_factor que vai diminuindo pela conta 100% do volume - (interação i/duração -10). Caso tenha chegado dos 10 segundos finais, ele silencia, por isso a condição duration - 10. "
   ]
  },
  {
   "cell_type": "code",
   "execution_count": 4,
   "id": "7e7908d7",
   "metadata": {},
   "outputs": [
    {
     "name": "stdout",
     "output_type": "stream",
     "text": [
      "Moviepy - Building video output_gradual_reduction.mp4.\n",
      "MoviePy - Writing audio in output_gradual_reductionTEMP_MPY_wvf_snd.mp3\n"
     ]
    },
    {
     "name": "stderr",
     "output_type": "stream",
     "text": [
      "                                                                     \r"
     ]
    },
    {
     "name": "stdout",
     "output_type": "stream",
     "text": [
      "MoviePy - Done.\n",
      "Moviepy - Writing video output_gradual_reduction.mp4\n",
      "\n"
     ]
    },
    {
     "name": "stderr",
     "output_type": "stream",
     "text": [
      "                                                                \r"
     ]
    },
    {
     "name": "stdout",
     "output_type": "stream",
     "text": [
      "Moviepy - Done !\n",
      "Moviepy - video ready output_gradual_reduction.mp4\n"
     ]
    }
   ],
   "source": [
    "video = VideoFileClip('output_inverted.mp4')  \n",
    "\n",
    "duration = video.duration\n",
    "\n",
    "clips = []\n",
    "\n",
    "for i in range(0, int(duration), 1):\n",
    "    subclip = video.subclip(i, min(i + 1, duration))\n",
    "    if i < duration - 10:\n",
    "        volume_factor = 1 - (i / (duration - 10))\n",
    "    else:\n",
    "        volume_factor = 0\n",
    "    \n",
    "    subclip = subclip.volumex(volume_factor)\n",
    "    clips.append(subclip)\n",
    "    \n",
    "video_with_reduced_volume = concatenate_videoclips(clips)\n",
    "video_with_reduced_volume.write_videofile('output_gradual_reduction.mp4', audio=True)"
   ]
  },
  {
   "cell_type": "markdown",
   "id": "b48d1822",
   "metadata": {},
   "source": [
    "\n",
    "3. Corta o vídeo no minuto 1 (segundo 60) até o segundo 80. "
   ]
  },
  {
   "cell_type": "code",
   "execution_count": null,
   "id": "5101be37",
   "metadata": {},
   "outputs": [
    {
     "name": "stdout",
     "output_type": "stream",
     "text": [
      "Moviepy - Building video output_without_20_seconds.mp4.\n",
      "MoviePy - Writing audio in output_without_20_secondsTEMP_MPY_wvf_snd.mp3\n"
     ]
    },
    {
     "name": "stderr",
     "output_type": "stream",
     "text": [
      "                                                                      \r"
     ]
    },
    {
     "name": "stdout",
     "output_type": "stream",
     "text": [
      "MoviePy - Done.\n",
      "Moviepy - Writing video output_without_20_seconds.mp4\n",
      "\n"
     ]
    },
    {
     "name": "stderr",
     "output_type": "stream",
     "text": [
      "                                                                \r"
     ]
    },
    {
     "name": "stdout",
     "output_type": "stream",
     "text": [
      "Moviepy - Done !\n",
      "Moviepy - video ready output_without_20_seconds.mp4\n",
      "Remoção dos 20 segundos completa.\n"
     ]
    }
   ],
   "source": [
    "video = VideoFileClip('output_gradual_reduction.mp4')\n",
    "\n",
    "video_without_20_seconds = concatenate_videoclips([video.subclip(0, 60), video.subclip(80, video.duration)])\n",
    "\n",
    "video_without_20_seconds.write_videofile('output_without_20_seconds.mp4', audio=True)"
   ]
  },
  {
   "cell_type": "markdown",
   "id": "8356a443",
   "metadata": {},
   "source": [
    "4. Insere os 20 segundos cortados ao final do vídeo."
   ]
  },
  {
   "cell_type": "code",
   "execution_count": null,
   "id": "8a3a0b24",
   "metadata": {},
   "outputs": [
    {
     "name": "stdout",
     "output_type": "stream",
     "text": [
      "Moviepy - Building video output_final.mp4.\n",
      "MoviePy - Writing audio in output_finalTEMP_MPY_wvf_snd.mp3\n"
     ]
    },
    {
     "name": "stderr",
     "output_type": "stream",
     "text": [
      "                                                                      \r"
     ]
    },
    {
     "name": "stdout",
     "output_type": "stream",
     "text": [
      "MoviePy - Done.\n",
      "Moviepy - Writing video output_final.mp4\n",
      "\n"
     ]
    },
    {
     "name": "stderr",
     "output_type": "stream",
     "text": [
      "                                                                \r"
     ]
    },
    {
     "name": "stdout",
     "output_type": "stream",
     "text": [
      "Moviepy - Done !\n",
      "Moviepy - video ready output_final.mp4\n",
      "Inserção dos 20 segundos cortados ao final do vídeo completa.\n"
     ]
    }
   ],
   "source": [
    "video_without_20_seconds = VideoFileClip('output_without_20_seconds.mp4')\n",
    "\n",
    "video_cut = video.subclip(60, 80)\n",
    "\n",
    "final_video = concatenate_videoclips([video_without_20_seconds, video_cut])\n",
    "\n",
    "final_video.write_videofile('output_final.mp4', audio=True)"
   ]
  }
 ],
 "metadata": {
  "kernelspec": {
   "display_name": "Python 3",
   "language": "python",
   "name": "python3"
  },
  "language_info": {
   "codemirror_mode": {
    "name": "ipython",
    "version": 3
   },
   "file_extension": ".py",
   "mimetype": "text/x-python",
   "name": "python",
   "nbconvert_exporter": "python",
   "pygments_lexer": "ipython3",
   "version": "3.13.0"
  }
 },
 "nbformat": 4,
 "nbformat_minor": 5
}
